{
 "cells": [
  {
   "cell_type": "code",
   "execution_count": 43,
   "metadata": {
    "collapsed": false
   },
   "outputs": [],
   "source": [
    "import json\n",
    "\n",
    "words_time = []\n",
    "with open(\"./words_time.json\", \"r\") as f:\n",
    "    words_time = json.load(f)\n",
    "    \n",
    "transcript = words_time['actions'][0][\"result\"][\"document\"]"
   ]
  },
  {
   "cell_type": "code",
   "execution_count": 45,
   "metadata": {
    "collapsed": false
   },
   "outputs": [],
   "source": [
    "phrases = []\n",
    "with open(\"./phrases_sentiment.json\", \"r\") as g:\n",
    "    phrases = json.load(g)\n",
    "    \n",
    "positive_phrases = phrases[\"positive\"]\n",
    "p_neg = phrases[\"negative\"]\n",
    "p_agg = phrases[\"aggregate\"]"
   ]
  },
  {
   "cell_type": "code",
   "execution_count": 93,
   "metadata": {
    "collapsed": false
   },
   "outputs": [
    {
     "name": "stdout",
     "output_type": "stream",
     "text": [
      "[[u'the experience amazing experience of going to hack this', 0.7352054609465631, 9500, 13580], [u'is an amazing experience', 0.859327910498872, 13940, 14600], [u'interesting people', 0.6280145725181376, 16930, 17430], [u'create innovative ideas and solutions to problems', 0.7923352042939829, 19490, 22460], [u'it is a great', 0.9025871577819432, 26590, 26810], [u'encourage everyone to work', 0.8303585105859703, 29390, 30520], [u'this thank you', 0.6748984055823062, 30850, 31700]]\n"
     ]
    }
   ],
   "source": [
    "t = 0; # transcript; the words\n",
    "\n",
    "# todo\n",
    "def match_phrase(transcript, t_index, phrase):\n",
    "    return None\n",
    "\n",
    "timestamps = []\n",
    "phrase_index = 0\n",
    "while phrase_index < len(positive_phrases):\n",
    "    phrase_words = positive_phrases[phrase_index][\"original_text\"].split(\" \")\n",
    "    \n",
    "#     print phrase_words\n",
    "#     print t\n",
    "#     print len(transcript)\n",
    "    while transcript[t][\"content\"] != phrase_words[0]:\n",
    "        t += 1\n",
    "    \n",
    "    # t now points to the first index in the transcript for the first phrase word\n",
    "    \n",
    "    # match the rest of the phrase\n",
    "    u = t + 1\n",
    "    is_full_match = True\n",
    "    for v in xrange(1, len(phrase_words)):\n",
    "        if phrase_words[v] != transcript[u][\"content\"]:\n",
    "            is_full_match = False\n",
    "            break\n",
    "        u += 1\n",
    "    \n",
    "    if is_full_match:\n",
    "        seg = transcript[t:t+len(phrase_words)]\n",
    "    \n",
    "#         print \"Matched: \" , \" \".join(phrase_words), \" Starts at: \", seg[0][\"offset\"], \" Ends at: \", seg[-1][\"offset\"]\n",
    "#         res = \"\"\n",
    "#         for s in seg:\n",
    "#             res += s[\"content\"] + \" \"\n",
    "#         print res, \"\\n\\n\"\n",
    "\n",
    "        timestamps.append( [ \" \".join(phrase_words), positive_phrases[phrase_index][\"score\"], seg[0][\"offset\"] , seg[-1][\"offset\"]]) \n",
    "        # move to the next transcript word and next phrase (yes part of the same phrase will be re-searched)\n",
    "        phrase_index += 1\n",
    "\n",
    "    t += 1 \n",
    "    \n",
    "print timestamps"
   ]
  },
  {
   "cell_type": "code",
   "execution_count": 94,
   "metadata": {
    "collapsed": false
   },
   "outputs": [],
   "source": [
    "last = transcript[-1]\n",
    "normalizer = last[\"offset\"] + last[\"duration\"]"
   ]
  },
  {
   "cell_type": "code",
   "execution_count": 95,
   "metadata": {
    "collapsed": true
   },
   "outputs": [],
   "source": [
    "%matplotlib inline\n",
    "import matplotlib.pyplot as plt"
   ]
  },
  {
   "cell_type": "code",
   "execution_count": 96,
   "metadata": {
    "collapsed": false
   },
   "outputs": [],
   "source": [
    "# normalize start and end timestamps\n",
    "tagged_phrases = timestamps\n",
    "for phrase in tagged_phrases:\n",
    "    phrase[2] /= float(normalizer)\n",
    "    phrase[3] /= float(normalizer)"
   ]
  },
  {
   "cell_type": "code",
   "execution_count": 97,
   "metadata": {
    "collapsed": false
   },
   "outputs": [
    {
     "data": {
      "text/plain": [
       "[[u'the experience amazing experience of going to hack this',\n",
       "  0.7352054609465631,\n",
       "  0.2985543683218102,\n",
       "  0.42677561282212445],\n",
       " [u'is an amazing experience',\n",
       "  0.859327910498872,\n",
       "  0.4380892520427404,\n",
       "  0.45883092394720304],\n",
       " [u'interesting people',\n",
       "  0.6280145725181376,\n",
       "  0.5320553111250785,\n",
       "  0.5477686989314896],\n",
       " [u'create innovative ideas and solutions to problems',\n",
       "  0.7923352042939829,\n",
       "  0.6125078566939032,\n",
       "  0.7058453802639849],\n",
       " [u'it is a great',\n",
       "  0.9025871577819432,\n",
       "  0.8356379635449402,\n",
       "  0.8425518541797612],\n",
       " [u'encourage everyone to work',\n",
       "  0.8303585105859703,\n",
       "  0.9236329352608422,\n",
       "  0.9591451917033312],\n",
       " [u'this thank you',\n",
       "  0.6748984055823062,\n",
       "  0.9695160276555626,\n",
       "  0.9962287869264613]]"
      ]
     },
     "execution_count": 97,
     "metadata": {},
     "output_type": "execute_result"
    }
   ],
   "source": [
    "tagged_phrases"
   ]
  },
  {
   "cell_type": "code",
   "execution_count": 108,
   "metadata": {
    "collapsed": false
   },
   "outputs": [
    {
     "name": "stdout",
     "output_type": "stream",
     "text": [
      "[0.2985543683218102, 0.4380892520427404, 0.5320553111250785, 0.6125078566939032, 0.8356379635449402, 0.9236329352608422, 0.9695160276555626]\n",
      "[0.7352054609465631, 0.859327910498872, 0.6280145725181376, 0.7923352042939829, 0.9025871577819432, 0.8303585105859703, 0.6748984055823062]\n"
     ]
    }
   ],
   "source": [
    "x = []\n",
    "y = []\n",
    "labels = []\n",
    "for p in tagged_phrases:\n",
    "    x += [p[2]]\n",
    "    y += [p[1]]\n",
    "    labels += [p[0]]\n",
    "print x\n",
    "print y"
   ]
  },
  {
   "cell_type": "code",
   "execution_count": null,
   "metadata": {
    "collapsed": true
   },
   "outputs": [],
   "source": []
  },
  {
   "cell_type": "code",
   "execution_count": 111,
   "metadata": {
    "collapsed": false
   },
   "outputs": [
    {
     "data": {
      "image/png": "[encoded data removed]",
      "text/plain": [
       "<matplotlib.figure.Figure at 0x108c06890>"
      ]
     },
     "metadata": {},
     "output_type": "display_data"
    }
   ],
   "source": [
    "plt.plot(x,y,'r-')\n",
    "\n",
    "for label, xx ,yy in zip(labels, x, y):\n",
    "    plt.annotate(label, xy = (xx, yy), xytext = (60,60), textcoords = 'offset points', ha = 'right', va = 'bottom',\n",
    "        bbox = dict(boxstyle = 'round,pad=0.5', fc = 'yellow', alpha = 0.5),\n",
    "        arrowprops = dict(arrowstyle = '->', connectionstyle = 'arc3,rad=0'))\n",
    "\n",
    "plt.show()"
   ]
  },
  {
   "cell_type": "code",
   "execution_count": 103,
   "metadata": {
    "collapsed": false
   },
   "outputs": [
    {
     "name": "stdout",
     "output_type": "stream",
     "text": [
      "the experience amazing experience of going to hack this\n",
      "is an amazing experience\n",
      "interesting people\n",
      "create innovative ideas and solutions to problems\n",
      "it is a great\n",
      "encourage everyone to work\n",
      "this thank you\n"
     ]
    }
   ],
   "source": [
    "for p in tagged_phrases:\n",
    "    print p[0]"
   ]
  },
  {
   "cell_type": "code",
   "execution_count": null,
   "metadata": {
    "collapsed": true
   },
   "outputs": [],
   "source": []
  }
 ],
 "metadata": {
  "kernelspec": {
   "display_name": "Python 2",
   "language": "python",
   "name": "python2"
  },
  "language_info": {
   "codemirror_mode": {
    "name": "ipython",
    "version": 2
   },
   "file_extension": ".py",
   "mimetype": "text/x-python",
   "name": "python",
   "nbconvert_exporter": "python",
   "pygments_lexer": "ipython2",
   "version": "2.7.9"
  }
 },
 "nbformat": 4,
 "nbformat_minor": 0
}
